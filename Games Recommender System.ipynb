{
 "cells": [
  {
   "cell_type": "markdown",
   "metadata": {},
   "source": [
    "# Games Recommender System\n",
    "\n",
    "Steam is an online platform which allows users to purchase games to play. Steam would presumably profit from each game purchase by taking a cut from the sale. When gamers procure in-game items, Steam would also likely take a share of the sale. \n",
    "\n",
    "Assuming the above business model to be true, it would be in Steam's interest to recommend games to users to purchase and to also recommend games that users would spend a long time playing to increase the likelihood of them purchasing in-game items to elevate their gaming experience. \n",
    "\n",
    "As such, a games recommender system is developed with a dataset of games purchased and cumulative play time of various users obtained from Steam. In this project, a hybrid games recommender system would be developed using a number of possible recommender algorithms to deploy a three-pronged approach so as to increase the likelihood of a user finding a game he/she would like to purchase and play. These include:\n",
    "1. Top Seller Recommender  (based on top purchases)\n",
    "2. Community Recommender (based on top play times)\n",
    "3. Neural Collaborative Filtering Recommender (using Deep Neural Network and based on user-game interactions)\n",
    "\n",
    "\n",
    "## Setup"
   ]
  },
  {
   "cell_type": "code",
   "execution_count": 1,
   "metadata": {},
   "outputs": [],
   "source": [
    "import pandas as pd\n",
    "import seaborn as sns\n",
    "from sklearn.model_selection import train_test_split\n",
    "from tensorflow.keras.models import Model\n",
    "from tensorflow.keras.layers import Input, Reshape, Dot, Embedding\n",
    "from tensorflow.keras.optimizers import Adam\n",
    "from tensorflow.keras.regularizers import l2\n",
    "import matplotlib.pyplot as plt"
   ]
  },
  {
   "cell_type": "markdown",
   "metadata": {},
   "source": [
    "## Loading Data"
   ]
  },
  {
   "cell_type": "code",
   "execution_count": 2,
   "metadata": {},
   "outputs": [
    {
     "data": {
      "text/html": [
       "<div>\n",
       "<style scoped>\n",
       "    .dataframe tbody tr th:only-of-type {\n",
       "        vertical-align: middle;\n",
       "    }\n",
       "\n",
       "    .dataframe tbody tr th {\n",
       "        vertical-align: top;\n",
       "    }\n",
       "\n",
       "    .dataframe thead th {\n",
       "        text-align: right;\n",
       "    }\n",
       "</style>\n",
       "<table border=\"1\" class=\"dataframe\">\n",
       "  <thead>\n",
       "    <tr style=\"text-align: right;\">\n",
       "      <th></th>\n",
       "      <th>0</th>\n",
       "      <th>1</th>\n",
       "      <th>2</th>\n",
       "      <th>3</th>\n",
       "      <th>4</th>\n",
       "    </tr>\n",
       "  </thead>\n",
       "  <tbody>\n",
       "    <tr>\n",
       "      <td>0</td>\n",
       "      <td>151603712</td>\n",
       "      <td>The Elder Scrolls V Skyrim</td>\n",
       "      <td>purchase</td>\n",
       "      <td>1.0</td>\n",
       "      <td>0</td>\n",
       "    </tr>\n",
       "    <tr>\n",
       "      <td>1</td>\n",
       "      <td>151603712</td>\n",
       "      <td>The Elder Scrolls V Skyrim</td>\n",
       "      <td>play</td>\n",
       "      <td>273.0</td>\n",
       "      <td>0</td>\n",
       "    </tr>\n",
       "    <tr>\n",
       "      <td>2</td>\n",
       "      <td>151603712</td>\n",
       "      <td>Fallout 4</td>\n",
       "      <td>purchase</td>\n",
       "      <td>1.0</td>\n",
       "      <td>0</td>\n",
       "    </tr>\n",
       "    <tr>\n",
       "      <td>3</td>\n",
       "      <td>151603712</td>\n",
       "      <td>Fallout 4</td>\n",
       "      <td>play</td>\n",
       "      <td>87.0</td>\n",
       "      <td>0</td>\n",
       "    </tr>\n",
       "    <tr>\n",
       "      <td>4</td>\n",
       "      <td>151603712</td>\n",
       "      <td>Spore</td>\n",
       "      <td>purchase</td>\n",
       "      <td>1.0</td>\n",
       "      <td>0</td>\n",
       "    </tr>\n",
       "    <tr>\n",
       "      <td>5</td>\n",
       "      <td>151603712</td>\n",
       "      <td>Spore</td>\n",
       "      <td>play</td>\n",
       "      <td>14.9</td>\n",
       "      <td>0</td>\n",
       "    </tr>\n",
       "    <tr>\n",
       "      <td>6</td>\n",
       "      <td>151603712</td>\n",
       "      <td>Fallout New Vegas</td>\n",
       "      <td>purchase</td>\n",
       "      <td>1.0</td>\n",
       "      <td>0</td>\n",
       "    </tr>\n",
       "    <tr>\n",
       "      <td>7</td>\n",
       "      <td>151603712</td>\n",
       "      <td>Fallout New Vegas</td>\n",
       "      <td>play</td>\n",
       "      <td>12.1</td>\n",
       "      <td>0</td>\n",
       "    </tr>\n",
       "    <tr>\n",
       "      <td>8</td>\n",
       "      <td>151603712</td>\n",
       "      <td>Left 4 Dead 2</td>\n",
       "      <td>purchase</td>\n",
       "      <td>1.0</td>\n",
       "      <td>0</td>\n",
       "    </tr>\n",
       "    <tr>\n",
       "      <td>9</td>\n",
       "      <td>151603712</td>\n",
       "      <td>Left 4 Dead 2</td>\n",
       "      <td>play</td>\n",
       "      <td>8.9</td>\n",
       "      <td>0</td>\n",
       "    </tr>\n",
       "  </tbody>\n",
       "</table>\n",
       "</div>"
      ],
      "text/plain": [
       "           0                           1         2      3  4\n",
       "0  151603712  The Elder Scrolls V Skyrim  purchase    1.0  0\n",
       "1  151603712  The Elder Scrolls V Skyrim      play  273.0  0\n",
       "2  151603712                   Fallout 4  purchase    1.0  0\n",
       "3  151603712                   Fallout 4      play   87.0  0\n",
       "4  151603712                       Spore  purchase    1.0  0\n",
       "5  151603712                       Spore      play   14.9  0\n",
       "6  151603712           Fallout New Vegas  purchase    1.0  0\n",
       "7  151603712           Fallout New Vegas      play   12.1  0\n",
       "8  151603712               Left 4 Dead 2  purchase    1.0  0\n",
       "9  151603712               Left 4 Dead 2      play    8.9  0"
      ]
     },
     "execution_count": 2,
     "metadata": {},
     "output_type": "execute_result"
    }
   ],
   "source": [
    "games = pd.read_csv(\"steam-200k.csv\", header=None)\n",
    "games.head(10)"
   ]
  },
  {
   "cell_type": "markdown",
   "metadata": {},
   "source": [
    "The following information has been provided for the above data:\n",
    "- Column 0: User ID\n",
    "- Column 1: Game title\n",
    "- Column 2: User Action {'purchase','play'}\n",
    "- Column 3: Value. Value is 1 if Column 2 is 'purchase' or number of hours the user has played the game if Column 2 is 'play'."
   ]
  },
  {
   "cell_type": "code",
   "execution_count": 3,
   "metadata": {
    "scrolled": false
   },
   "outputs": [
    {
     "data": {
      "text/html": [
       "<div>\n",
       "<style scoped>\n",
       "    .dataframe tbody tr th:only-of-type {\n",
       "        vertical-align: middle;\n",
       "    }\n",
       "\n",
       "    .dataframe tbody tr th {\n",
       "        vertical-align: top;\n",
       "    }\n",
       "\n",
       "    .dataframe thead th {\n",
       "        text-align: right;\n",
       "    }\n",
       "</style>\n",
       "<table border=\"1\" class=\"dataframe\">\n",
       "  <thead>\n",
       "    <tr style=\"text-align: right;\">\n",
       "      <th></th>\n",
       "      <th>0</th>\n",
       "      <th>3</th>\n",
       "      <th>4</th>\n",
       "    </tr>\n",
       "  </thead>\n",
       "  <tbody>\n",
       "    <tr>\n",
       "      <td>count</td>\n",
       "      <td>2.000000e+05</td>\n",
       "      <td>200000.000000</td>\n",
       "      <td>200000.0</td>\n",
       "    </tr>\n",
       "    <tr>\n",
       "      <td>mean</td>\n",
       "      <td>1.036559e+08</td>\n",
       "      <td>17.874384</td>\n",
       "      <td>0.0</td>\n",
       "    </tr>\n",
       "    <tr>\n",
       "      <td>std</td>\n",
       "      <td>7.208074e+07</td>\n",
       "      <td>138.056952</td>\n",
       "      <td>0.0</td>\n",
       "    </tr>\n",
       "    <tr>\n",
       "      <td>min</td>\n",
       "      <td>5.250000e+03</td>\n",
       "      <td>0.100000</td>\n",
       "      <td>0.0</td>\n",
       "    </tr>\n",
       "    <tr>\n",
       "      <td>25%</td>\n",
       "      <td>4.738420e+07</td>\n",
       "      <td>1.000000</td>\n",
       "      <td>0.0</td>\n",
       "    </tr>\n",
       "    <tr>\n",
       "      <td>50%</td>\n",
       "      <td>8.691201e+07</td>\n",
       "      <td>1.000000</td>\n",
       "      <td>0.0</td>\n",
       "    </tr>\n",
       "    <tr>\n",
       "      <td>75%</td>\n",
       "      <td>1.542309e+08</td>\n",
       "      <td>1.300000</td>\n",
       "      <td>0.0</td>\n",
       "    </tr>\n",
       "    <tr>\n",
       "      <td>max</td>\n",
       "      <td>3.099031e+08</td>\n",
       "      <td>11754.000000</td>\n",
       "      <td>0.0</td>\n",
       "    </tr>\n",
       "  </tbody>\n",
       "</table>\n",
       "</div>"
      ],
      "text/plain": [
       "                  0              3         4\n",
       "count  2.000000e+05  200000.000000  200000.0\n",
       "mean   1.036559e+08      17.874384       0.0\n",
       "std    7.208074e+07     138.056952       0.0\n",
       "min    5.250000e+03       0.100000       0.0\n",
       "25%    4.738420e+07       1.000000       0.0\n",
       "50%    8.691201e+07       1.000000       0.0\n",
       "75%    1.542309e+08       1.300000       0.0\n",
       "max    3.099031e+08   11754.000000       0.0"
      ]
     },
     "execution_count": 3,
     "metadata": {},
     "output_type": "execute_result"
    }
   ],
   "source": [
    "games.describe()"
   ]
  },
  {
   "cell_type": "markdown",
   "metadata": {},
   "source": [
    "As shown above, column 4 is filled with all zeroes. As such, we can drop column 4 and rename the remaining columns so that it will be easier to understand the data. "
   ]
  },
  {
   "cell_type": "code",
   "execution_count": 4,
   "metadata": {
    "scrolled": true
   },
   "outputs": [
    {
     "data": {
      "text/html": [
       "<div>\n",
       "<style scoped>\n",
       "    .dataframe tbody tr th:only-of-type {\n",
       "        vertical-align: middle;\n",
       "    }\n",
       "\n",
       "    .dataframe tbody tr th {\n",
       "        vertical-align: top;\n",
       "    }\n",
       "\n",
       "    .dataframe thead th {\n",
       "        text-align: right;\n",
       "    }\n",
       "</style>\n",
       "<table border=\"1\" class=\"dataframe\">\n",
       "  <thead>\n",
       "    <tr style=\"text-align: right;\">\n",
       "      <th></th>\n",
       "      <th>userid</th>\n",
       "      <th>game</th>\n",
       "      <th>action</th>\n",
       "      <th>value</th>\n",
       "    </tr>\n",
       "  </thead>\n",
       "  <tbody>\n",
       "    <tr>\n",
       "      <td>0</td>\n",
       "      <td>151603712</td>\n",
       "      <td>The Elder Scrolls V Skyrim</td>\n",
       "      <td>purchase</td>\n",
       "      <td>1.0</td>\n",
       "    </tr>\n",
       "    <tr>\n",
       "      <td>1</td>\n",
       "      <td>151603712</td>\n",
       "      <td>The Elder Scrolls V Skyrim</td>\n",
       "      <td>play</td>\n",
       "      <td>273.0</td>\n",
       "    </tr>\n",
       "    <tr>\n",
       "      <td>2</td>\n",
       "      <td>151603712</td>\n",
       "      <td>Fallout 4</td>\n",
       "      <td>purchase</td>\n",
       "      <td>1.0</td>\n",
       "    </tr>\n",
       "    <tr>\n",
       "      <td>3</td>\n",
       "      <td>151603712</td>\n",
       "      <td>Fallout 4</td>\n",
       "      <td>play</td>\n",
       "      <td>87.0</td>\n",
       "    </tr>\n",
       "    <tr>\n",
       "      <td>4</td>\n",
       "      <td>151603712</td>\n",
       "      <td>Spore</td>\n",
       "      <td>purchase</td>\n",
       "      <td>1.0</td>\n",
       "    </tr>\n",
       "    <tr>\n",
       "      <td>5</td>\n",
       "      <td>151603712</td>\n",
       "      <td>Spore</td>\n",
       "      <td>play</td>\n",
       "      <td>14.9</td>\n",
       "    </tr>\n",
       "    <tr>\n",
       "      <td>6</td>\n",
       "      <td>151603712</td>\n",
       "      <td>Fallout New Vegas</td>\n",
       "      <td>purchase</td>\n",
       "      <td>1.0</td>\n",
       "    </tr>\n",
       "    <tr>\n",
       "      <td>7</td>\n",
       "      <td>151603712</td>\n",
       "      <td>Fallout New Vegas</td>\n",
       "      <td>play</td>\n",
       "      <td>12.1</td>\n",
       "    </tr>\n",
       "    <tr>\n",
       "      <td>8</td>\n",
       "      <td>151603712</td>\n",
       "      <td>Left 4 Dead 2</td>\n",
       "      <td>purchase</td>\n",
       "      <td>1.0</td>\n",
       "    </tr>\n",
       "    <tr>\n",
       "      <td>9</td>\n",
       "      <td>151603712</td>\n",
       "      <td>Left 4 Dead 2</td>\n",
       "      <td>play</td>\n",
       "      <td>8.9</td>\n",
       "    </tr>\n",
       "  </tbody>\n",
       "</table>\n",
       "</div>"
      ],
      "text/plain": [
       "      userid                        game    action  value\n",
       "0  151603712  The Elder Scrolls V Skyrim  purchase    1.0\n",
       "1  151603712  The Elder Scrolls V Skyrim      play  273.0\n",
       "2  151603712                   Fallout 4  purchase    1.0\n",
       "3  151603712                   Fallout 4      play   87.0\n",
       "4  151603712                       Spore  purchase    1.0\n",
       "5  151603712                       Spore      play   14.9\n",
       "6  151603712           Fallout New Vegas  purchase    1.0\n",
       "7  151603712           Fallout New Vegas      play   12.1\n",
       "8  151603712               Left 4 Dead 2  purchase    1.0\n",
       "9  151603712               Left 4 Dead 2      play    8.9"
      ]
     },
     "execution_count": 4,
     "metadata": {},
     "output_type": "execute_result"
    }
   ],
   "source": [
    "games = games.drop(4, axis=1)\n",
    "games = games.rename(columns= {0: 'userid', 1: 'game', 2: 'action', 3: 'value'})\n",
    "games.head(10)"
   ]
  },
  {
   "cell_type": "markdown",
   "metadata": {},
   "source": [
    "## Data Exploration"
   ]
  },
  {
   "cell_type": "code",
   "execution_count": 5,
   "metadata": {},
   "outputs": [
    {
     "name": "stdout",
     "output_type": "stream",
     "text": [
      "The dataset has 200000 data, containing information about 12393 users and 5155 games.\n",
      "The dataset has 129511 records of purchases and 70489 records of play times.\n"
     ]
    }
   ],
   "source": [
    "userNum = len(games['userid'].unique())\n",
    "gameNum = len(games['game'].unique())\n",
    "dataNum = games.shape[0]\n",
    "print(f\"The dataset has {dataNum} data, containing information about {userNum} users and {gameNum} games.\")\n",
    "purchaseNum = len(games[games['action']==\"purchase\"])\n",
    "playNum = len(games[games['action']==\"play\"])\n",
    "print(f\"The dataset has {purchaseNum} records of purchases and {playNum} records of play times.\")"
   ]
  },
  {
   "cell_type": "markdown",
   "metadata": {},
   "source": [
    "As shown above, there are more purchases made than plays, which seems to indicate that there are instances of users who purchase games without playing them."
   ]
  },
  {
   "cell_type": "code",
   "execution_count": 6,
   "metadata": {},
   "outputs": [],
   "source": [
    "play = games[games[\"action\"]==\"play\"].copy()\n",
    "purchase = games[games[\"action\"]==\"purchase\"].copy()\n",
    "sortedpurchase = purchase.groupby('game')['game'].agg('count').sort_values(ascending=False)\n",
    "sortedplay = play.groupby('game')['value'].agg(np.sum).sort_values(ascending=False)"
   ]
  },
  {
   "cell_type": "code",
   "execution_count": 7,
   "metadata": {},
   "outputs": [
    {
     "data": {
      "image/png": "[encoded data removed]",
      "text/plain": [
       "<Figure size 720x720 with 2 Axes>"
      ]
     },
     "metadata": {
      "needs_background": "light"
     },
     "output_type": "display_data"
    }
   ],
   "source": [
    "fig, ax = plt.subplots(1,2,figsize=(10,10))\n",
    "sns.barplot(y = sortedpurchase.index[:10], x = sortedpurchase.values[:10], ax=ax[0])\n",
    "sns.barplot(y = sortedplay.index[:10], x = sortedplay.values[:10], ax=ax[1])\n",
    "ax[0].set(xlabel=\"Number of Purchases\")\n",
    "ax[1].yaxis.tick_right()\n",
    "ax[1].yaxis.set_label_position(\"right\")\n",
    "ax[1].set(xlabel=\"Play-time (Hours)\")\n",
    "plt.show()"
   ]
  },
  {
   "cell_type": "markdown",
   "metadata": {},
   "source": [
    "For the top 10 games purchased and played, a disconnect can be seen in that the top game purchases do not necessarily translate into long play times. As such, instead of recommending just the top games purchased, we should also recommend the top games played as well. \n",
    "\n",
    "Let's extract a random user from the data first so that we can test the recommenders developed in the subsequent sections. Before that, let's take a look at the top 10 games played by the user. "
   ]
  },
  {
   "cell_type": "code",
   "execution_count": 10,
   "metadata": {},
   "outputs": [
    {
     "name": "stdout",
     "output_type": "stream",
     "text": [
      "Top 10 games played by user 164761364:\n",
      "DayZ : 92.0 hours\n",
      "Age of Empires II HD Edition : 55.0 hours\n",
      "Counter-Strike Global Offensive : 48.0 hours\n",
      "Left 4 Dead 2 : 33.0 hours\n",
      "7 Days to Die : 31.0 hours\n",
      "Stronghold Crusader HD : 25.0 hours\n",
      "No More Room in Hell : 21.0 hours\n",
      "Sins of a Solar Empire Rebellion : 15.2 hours\n",
      "Unturned : 12.4 hours\n",
      "Anno 1404 Venice : 8.6 hours\n"
     ]
    }
   ],
   "source": [
    "def userHistory(testuser):\n",
    "    allgames = set(play['game'])\n",
    "    \n",
    "    userpurchased = set(purchase[purchase[\"userid\"]==testuser][\"game\"])\n",
    "    notpurchased = allgames - userpurchased\n",
    "    \n",
    "    userplayed = set(play[play[\"userid\"]==testuser][\"game\"])\n",
    "    notplayed = allgames - userplayed\n",
    "\n",
    "    userhours = play[play[\"userid\"]==testuser].sort_values(by='value', ascending =False)\n",
    "    print(f\"Top 10 games played by user {testuser}:\")\n",
    "    for row in userhours[:10].itertuples():\n",
    "        print(row.game, \":\", row.value, \"hours\")    \n",
    "    return userpurchased, notpurchased, userplayed, notplayed\n",
    "\n",
    "testuser = play[\"userid\"].sample(1).iloc[0]\n",
    "userpurchased, notpurchased, userplayed, notplayed = userHistory(testuser)\n",
    "\n"
   ]
  },
  {
   "cell_type": "markdown",
   "metadata": {},
   "source": [
    "## Top Seller Recommender\n",
    "\n",
    "There is a possibility that a user might be interested in top selling games on the Steam platform since there are so many other users purchasing them. As such, a Top Seller Recommender would promote the top sellers which the test user has not purchased.   "
   ]
  },
  {
   "cell_type": "code",
   "execution_count": 11,
   "metadata": {},
   "outputs": [],
   "source": [
    "def TopSeller(testuser):\n",
    "    \n",
    "    TopGames = []\n",
    "    i = 0\n",
    "    while len(TopGames) < 11:\n",
    "        if sortedpurchase.index[i] in notpurchased:\n",
    "            TopGames.append(sortedpurchase.index[i])\n",
    "        i += 1\n",
    "    print(f\"\\nTop Sellers recommended to user {testuser}:\")\n",
    "    for game in TopGames:\n",
    "        print(game) "
   ]
  },
  {
   "cell_type": "code",
   "execution_count": 12,
   "metadata": {},
   "outputs": [
    {
     "name": "stdout",
     "output_type": "stream",
     "text": [
      "\n",
      "Top Sellers recommended to user 164761364:\n",
      "Half-Life 2 Lost Coast\n",
      "Counter-Strike Source\n",
      "Counter-Strike\n",
      "Half-Life 2 Deathmatch\n",
      "Garry's Mod\n",
      "The Elder Scrolls V Skyrim\n",
      "Robocraft\n",
      "Counter-Strike Condition Zero\n",
      "Counter-Strike Condition Zero Deleted Scenes\n",
      "Half-Life 2\n",
      "Sid Meier's Civilization V\n"
     ]
    }
   ],
   "source": [
    "TopSeller(testuser)"
   ]
  },
  {
   "cell_type": "markdown",
   "metadata": {},
   "source": [
    "## Community Recommender\n",
    "\n",
    "As observed in the data, top sellers might not necessarily translate into top games played. Besides recommending the top sellers, we should also consider recommending top 10 games played by the community of gamers which the user has not purchased.  "
   ]
  },
  {
   "cell_type": "code",
   "execution_count": 13,
   "metadata": {},
   "outputs": [],
   "source": [
    "def Comm(testuser):\n",
    "    \n",
    "    PopGames = []\n",
    "    i = 0\n",
    "    while len(PopGames) < 11:\n",
    "        if sortedplay.index[i] in notpurchased:\n",
    "            PopGames.append(sortedplay.index[i])\n",
    "        i += 1\n",
    "        \n",
    "    print(f\"\\nTop 10 popular games recommended by the community to user {testuser}:\")\n",
    "    for game in PopGames:\n",
    "        print(game) "
   ]
  },
  {
   "cell_type": "code",
   "execution_count": 14,
   "metadata": {
    "scrolled": true
   },
   "outputs": [
    {
     "name": "stdout",
     "output_type": "stream",
     "text": [
      "\n",
      "Top 10 popular games recommended by the community to user 164761364:\n",
      "Counter-Strike\n",
      "Sid Meier's Civilization V\n",
      "Counter-Strike Source\n",
      "The Elder Scrolls V Skyrim\n",
      "Garry's Mod\n",
      "Call of Duty Modern Warfare 2 - Multiplayer\n",
      "Football Manager 2013\n",
      "Football Manager 2012\n",
      "Football Manager 2014\n",
      "Terraria\n",
      "Football Manager 2015\n"
     ]
    }
   ],
   "source": [
    "Comm(testuser)"
   ]
  },
  {
   "cell_type": "markdown",
   "metadata": {},
   "source": [
    "The top 10 games recommended by the Top Seller Recommender and Community Recommender are different, which helps to cover more bases and increase the likelihood that the test user might be interested in one of the recommended games. "
   ]
  },
  {
   "cell_type": "markdown",
   "metadata": {},
   "source": [
    "## Neural Collaborative Filtering Recommender\n",
    "\n",
    "A common drawback with the Top Seller and Community Recommenders is that they have not considered the games that a given user has played. As such, we can refine the recommendation approach to account for not just the games played, but also the number of hours played for each game. This can be achieved by using deep neural network to perform collaborative filtering. \n",
    "\n",
    "Collaborative filtering is a technique used to filter out items which a given user might be interested in given that there are other users with similar preferences as the given user. For instance, user A might have played Counter-Strike, Call of Duty and Team Fortress, while user B might have played Counter-Strike and Team Fortress. In this case, there is a high possibility that user B might be interested in Call of Duty since both users have played similar games.\n",
    "\n",
    "To achieve this, a deep learning model has been developed to take in two sparse vectors as inputs:\n",
    "- User vector\n",
    "- Game vector\n",
    "\n",
    "Embedding layers are added next to obtain the latent vectors for the sparse inputs from the input layer. The latent vectors would go through the multiple layered neural network to map to the predicted probabilities. Lastly, a dot layer is added to determine the probable hours that a given user would play a given game.  "
   ]
  },
  {
   "cell_type": "code",
   "execution_count": 15,
   "metadata": {},
   "outputs": [
    {
     "data": {
      "text/html": [
       "<div>\n",
       "<style scoped>\n",
       "    .dataframe tbody tr th:only-of-type {\n",
       "        vertical-align: middle;\n",
       "    }\n",
       "\n",
       "    .dataframe tbody tr th {\n",
       "        vertical-align: top;\n",
       "    }\n",
       "\n",
       "    .dataframe thead th {\n",
       "        text-align: right;\n",
       "    }\n",
       "</style>\n",
       "<table border=\"1\" class=\"dataframe\">\n",
       "  <thead>\n",
       "    <tr style=\"text-align: right;\">\n",
       "      <th></th>\n",
       "      <th>userid</th>\n",
       "      <th>game</th>\n",
       "      <th>action</th>\n",
       "      <th>value</th>\n",
       "      <th>enc_user</th>\n",
       "      <th>enc_game</th>\n",
       "      <th>value_norm</th>\n",
       "    </tr>\n",
       "  </thead>\n",
       "  <tbody>\n",
       "    <tr>\n",
       "      <td>1</td>\n",
       "      <td>151603712</td>\n",
       "      <td>The Elder Scrolls V Skyrim</td>\n",
       "      <td>play</td>\n",
       "      <td>273.0</td>\n",
       "      <td>0</td>\n",
       "      <td>0</td>\n",
       "      <td>1.000000</td>\n",
       "    </tr>\n",
       "    <tr>\n",
       "      <td>3</td>\n",
       "      <td>151603712</td>\n",
       "      <td>Fallout 4</td>\n",
       "      <td>play</td>\n",
       "      <td>87.0</td>\n",
       "      <td>0</td>\n",
       "      <td>1</td>\n",
       "      <td>1.000000</td>\n",
       "    </tr>\n",
       "    <tr>\n",
       "      <td>5</td>\n",
       "      <td>151603712</td>\n",
       "      <td>Spore</td>\n",
       "      <td>play</td>\n",
       "      <td>14.9</td>\n",
       "      <td>0</td>\n",
       "      <td>2</td>\n",
       "      <td>1.000000</td>\n",
       "    </tr>\n",
       "    <tr>\n",
       "      <td>7</td>\n",
       "      <td>151603712</td>\n",
       "      <td>Fallout New Vegas</td>\n",
       "      <td>play</td>\n",
       "      <td>12.1</td>\n",
       "      <td>0</td>\n",
       "      <td>3</td>\n",
       "      <td>0.999994</td>\n",
       "    </tr>\n",
       "    <tr>\n",
       "      <td>9</td>\n",
       "      <td>151603712</td>\n",
       "      <td>Left 4 Dead 2</td>\n",
       "      <td>play</td>\n",
       "      <td>8.9</td>\n",
       "      <td>0</td>\n",
       "      <td>4</td>\n",
       "      <td>0.999864</td>\n",
       "    </tr>\n",
       "    <tr>\n",
       "      <td>...</td>\n",
       "      <td>...</td>\n",
       "      <td>...</td>\n",
       "      <td>...</td>\n",
       "      <td>...</td>\n",
       "      <td>...</td>\n",
       "      <td>...</td>\n",
       "      <td>...</td>\n",
       "    </tr>\n",
       "    <tr>\n",
       "      <td>199991</td>\n",
       "      <td>128470551</td>\n",
       "      <td>Fallen Earth</td>\n",
       "      <td>play</td>\n",
       "      <td>2.4</td>\n",
       "      <td>11349</td>\n",
       "      <td>1349</td>\n",
       "      <td>0.916827</td>\n",
       "    </tr>\n",
       "    <tr>\n",
       "      <td>199993</td>\n",
       "      <td>128470551</td>\n",
       "      <td>Magic Duels</td>\n",
       "      <td>play</td>\n",
       "      <td>2.2</td>\n",
       "      <td>11349</td>\n",
       "      <td>1289</td>\n",
       "      <td>0.900250</td>\n",
       "    </tr>\n",
       "    <tr>\n",
       "      <td>199995</td>\n",
       "      <td>128470551</td>\n",
       "      <td>Titan Souls</td>\n",
       "      <td>play</td>\n",
       "      <td>1.5</td>\n",
       "      <td>11349</td>\n",
       "      <td>1274</td>\n",
       "      <td>0.817574</td>\n",
       "    </tr>\n",
       "    <tr>\n",
       "      <td>199997</td>\n",
       "      <td>128470551</td>\n",
       "      <td>Grand Theft Auto Vice City</td>\n",
       "      <td>play</td>\n",
       "      <td>1.5</td>\n",
       "      <td>11349</td>\n",
       "      <td>1004</td>\n",
       "      <td>0.817574</td>\n",
       "    </tr>\n",
       "    <tr>\n",
       "      <td>199999</td>\n",
       "      <td>128470551</td>\n",
       "      <td>RUSH</td>\n",
       "      <td>play</td>\n",
       "      <td>1.4</td>\n",
       "      <td>11349</td>\n",
       "      <td>301</td>\n",
       "      <td>0.802184</td>\n",
       "    </tr>\n",
       "  </tbody>\n",
       "</table>\n",
       "<p>70489 rows × 7 columns</p>\n",
       "</div>"
      ],
      "text/plain": [
       "           userid                        game action  value  enc_user  \\\n",
       "1       151603712  The Elder Scrolls V Skyrim   play  273.0         0   \n",
       "3       151603712                   Fallout 4   play   87.0         0   \n",
       "5       151603712                       Spore   play   14.9         0   \n",
       "7       151603712           Fallout New Vegas   play   12.1         0   \n",
       "9       151603712               Left 4 Dead 2   play    8.9         0   \n",
       "...           ...                         ...    ...    ...       ...   \n",
       "199991  128470551                Fallen Earth   play    2.4     11349   \n",
       "199993  128470551                 Magic Duels   play    2.2     11349   \n",
       "199995  128470551                 Titan Souls   play    1.5     11349   \n",
       "199997  128470551  Grand Theft Auto Vice City   play    1.5     11349   \n",
       "199999  128470551                        RUSH   play    1.4     11349   \n",
       "\n",
       "        enc_game  value_norm  \n",
       "1              0    1.000000  \n",
       "3              1    1.000000  \n",
       "5              2    1.000000  \n",
       "7              3    0.999994  \n",
       "9              4    0.999864  \n",
       "...          ...         ...  \n",
       "199991      1349    0.916827  \n",
       "199993      1289    0.900250  \n",
       "199995      1274    0.817574  \n",
       "199997      1004    0.817574  \n",
       "199999       301    0.802184  \n",
       "\n",
       "[70489 rows x 7 columns]"
      ]
     },
     "execution_count": 15,
     "metadata": {},
     "output_type": "execute_result"
    }
   ],
   "source": [
    "#obtain list of users and games\n",
    "userlist = list(play['userid'].unique())\n",
    "gamelist = list(play['game'].unique())\n",
    "\n",
    "#perform integer encoding on users and games\n",
    "enc_user = {user: encodeidx for encodeidx, user in enumerate(userlist)}\n",
    "enc_game = {game: encodeidx for encodeidx, game in enumerate(gamelist)}\n",
    "\n",
    "#map userid and game in games dataframe to the respective encoded integer\n",
    "play['enc_user'] = play['userid'].map(enc_user)\n",
    "play['enc_game'] = play['game'].map(enc_game)\n",
    "\n",
    "#apply sigmoid transformation on the play time to address the skew in data\n",
    "def sigmoid(x):\n",
    "    e = np.exp(1)\n",
    "    y = 1/(1+e**(-x))\n",
    "    return y\n",
    "\n",
    "play['value_norm'] = sigmoid(play['value'])\n",
    "play"
   ]
  },
  {
   "cell_type": "code",
   "execution_count": 16,
   "metadata": {},
   "outputs": [],
   "source": [
    "x = play[['enc_user','enc_game']].values\n",
    "y = play['value_norm'].values\n",
    "\n",
    "#use 70% of data to train model and reserve remaining 30% for validation of model\n",
    "x_train, x_test, y_train, y_test = train_test_split(x,y, test_size=0.3, random_state=88)\n",
    "\n",
    "#as there will be 2 inputs to the deep learning model used to predict ratings, we will split x_train and x_test into 2 sub-arrays\n",
    "x_train_array = [x_train[:, 0], x_train[:, 1]]\n",
    "x_test_array = [x_test[:, 0], x_test[:, 1]]"
   ]
  },
  {
   "cell_type": "code",
   "execution_count": 17,
   "metadata": {},
   "outputs": [],
   "source": [
    "def NCFModel(num_users, num_games, num_factors=30):\n",
    "    user = Input(shape=(1,))\n",
    "    u = Embedding(num_users, num_factors, embeddings_initializer='he_normal',\n",
    "                  embeddings_regularizer=l2(1e-6))(user)\n",
    "    u = Reshape((num_factors,))(u)\n",
    "\n",
    "    game = Input(shape=(1,))\n",
    "    g = Embedding(num_games, num_factors, embeddings_initializer='he_normal',\n",
    "                      embeddings_regularizer=l2(1e-6))(game)\n",
    "    g = Reshape((num_factors,))(g)\n",
    "\n",
    "    result = Dot(axes=1)([u,g])\n",
    "\n",
    "    model = Model(inputs=[user,game], outputs=result)\n",
    "    opt = Adam(lr=0.001)\n",
    "    model.compile(loss=\"mean_squared_error\", optimizer=opt)\n",
    "    \n",
    "    return model"
   ]
  },
  {
   "cell_type": "code",
   "execution_count": 18,
   "metadata": {},
   "outputs": [
    {
     "name": "stdout",
     "output_type": "stream",
     "text": [
      "Model: \"model\"\n",
      "__________________________________________________________________________________________________\n",
      "Layer (type)                    Output Shape         Param #     Connected to                     \n",
      "==================================================================================================\n",
      "input_1 (InputLayer)            [(None, 1)]          0                                            \n",
      "__________________________________________________________________________________________________\n",
      "input_2 (InputLayer)            [(None, 1)]          0                                            \n",
      "__________________________________________________________________________________________________\n",
      "embedding (Embedding)           (None, 1, 30)        340500      input_1[0][0]                    \n",
      "__________________________________________________________________________________________________\n",
      "embedding_1 (Embedding)         (None, 1, 30)        108000      input_2[0][0]                    \n",
      "__________________________________________________________________________________________________\n",
      "reshape (Reshape)               (None, 30)           0           embedding[0][0]                  \n",
      "__________________________________________________________________________________________________\n",
      "reshape_1 (Reshape)             (None, 30)           0           embedding_1[0][0]                \n",
      "__________________________________________________________________________________________________\n",
      "dot (Dot)                       (None, 1)            0           reshape[0][0]                    \n",
      "                                                                 reshape_1[0][0]                  \n",
      "==================================================================================================\n",
      "Total params: 448,500\n",
      "Trainable params: 448,500\n",
      "Non-trainable params: 0\n",
      "__________________________________________________________________________________________________\n"
     ]
    }
   ],
   "source": [
    "num_users = len(userlist)\n",
    "num_games = len(gamelist)\n",
    "\n",
    "model = NCFModel(num_users, num_games)\n",
    "model.summary()"
   ]
  },
  {
   "cell_type": "code",
   "execution_count": 19,
   "metadata": {
    "scrolled": true
   },
   "outputs": [
    {
     "name": "stdout",
     "output_type": "stream",
     "text": [
      "Epoch 1/5\n",
      "771/771 - 4s - loss: 0.7023 - val_loss: 0.4118\n",
      "Epoch 2/5\n",
      "771/771 - 3s - loss: 0.2319 - val_loss: 0.1974\n",
      "Epoch 3/5\n",
      "771/771 - 3s - loss: 0.0964 - val_loss: 0.1572\n",
      "Epoch 4/5\n",
      "771/771 - 3s - loss: 0.0529 - val_loss: 0.1425\n",
      "Epoch 5/5\n",
      "771/771 - 3s - loss: 0.0368 - val_loss: 0.1371\n"
     ]
    }
   ],
   "source": [
    "history = model.fit(x=x_train_array, y=y_train, batch_size=64, epochs=5, verbose=2, validation_data=(x_test_array, y_test))\n"
   ]
  },
  {
   "cell_type": "code",
   "execution_count": 20,
   "metadata": {
    "scrolled": false
   },
   "outputs": [
    {
     "data": {
      "image/png": "[encoded data removed]",
      "text/plain": [
       "<Figure size 432x288 with 1 Axes>"
      ]
     },
     "metadata": {
      "needs_background": "light"
     },
     "output_type": "display_data"
    }
   ],
   "source": [
    "plt.plot(history.history[\"loss\"])\n",
    "plt.plot(history.history[\"val_loss\"])\n",
    "plt.title(\"model loss\")\n",
    "plt.ylabel(\"loss\")\n",
    "plt.xlabel(\"epoch\")\n",
    "plt.legend([\"train\", \"test\"], loc=\"upper right\")\n",
    "plt.show()"
   ]
  },
  {
   "cell_type": "code",
   "execution_count": 21,
   "metadata": {},
   "outputs": [],
   "source": [
    "def NCFRec(testuser):\n",
    "    \n",
    "    #obtain encoded integer for given userId\n",
    "    testuser_enc = enc_user.get(testuser)\n",
    "    \n",
    "    #find games which have not been played by given user\n",
    "    notplayedenc = [[enc_game.get(x)] for x in notplayed]\n",
    "\n",
    "    #create input for model\n",
    "    user_game_array = np.hstack(([[testuser_enc]] * len(notplayed), notplayedenc))\n",
    "    \n",
    "    #use developed model to predict hours played for given user \n",
    "    user_hours = model.predict([user_game_array[:,0], user_game_array[:,1]]).flatten()\n",
    "\n",
    "    #find top 10 games based on predicted hours for given user\n",
    "    top_hours = user_hours.argsort()[::-1]\n",
    "    topgameids = [notplayedenc[x][0] for x in top_hours]\n",
    "    recommended_games = play[play[\"enc_game\"].isin(topgameids)][:10]\n",
    "    print(f\"\\nTop 10 games recommended to user {testuser}:\")\n",
    "    for row in recommended_games.itertuples():\n",
    "        print(row.game) "
   ]
  },
  {
   "cell_type": "code",
   "execution_count": 22,
   "metadata": {},
   "outputs": [
    {
     "name": "stdout",
     "output_type": "stream",
     "text": [
      "\n",
      "Top 10 games recommended to user 164761364:\n",
      "The Elder Scrolls V Skyrim\n",
      "Fallout 4\n",
      "Spore\n",
      "Fallout New Vegas\n",
      "HuniePop\n",
      "Path of Exile\n",
      "Poly Bridge\n",
      "Left 4 Dead\n",
      "Tomb Raider\n",
      "The Banner Saga\n"
     ]
    }
   ],
   "source": [
    "NCFRec(testuser)"
   ]
  },
  {
   "cell_type": "markdown",
   "metadata": {},
   "source": [
    "## Hybrid Recommender\n",
    "\n",
    "By stringing together the above recommenders, we can develop a Hybrid Recommender using a three-pronged approach to increase the likelihood that the user would be interested in one of the recommended games. "
   ]
  },
  {
   "cell_type": "code",
   "execution_count": 23,
   "metadata": {},
   "outputs": [],
   "source": [
    "def hybrid(testuser):\n",
    "    userpurchased, notpurchased, userplayed, notplayed = userHistory(testuser)\n",
    "    TopSeller(testuser)\n",
    "    Comm(testuser)\n",
    "    NCFRec(testuser)"
   ]
  },
  {
   "cell_type": "code",
   "execution_count": 24,
   "metadata": {},
   "outputs": [
    {
     "name": "stdout",
     "output_type": "stream",
     "text": [
      "Top 10 games played by user 164761364:\n",
      "DayZ : 92.0 hours\n",
      "Age of Empires II HD Edition : 55.0 hours\n",
      "Counter-Strike Global Offensive : 48.0 hours\n",
      "Left 4 Dead 2 : 33.0 hours\n",
      "7 Days to Die : 31.0 hours\n",
      "Stronghold Crusader HD : 25.0 hours\n",
      "No More Room in Hell : 21.0 hours\n",
      "Sins of a Solar Empire Rebellion : 15.2 hours\n",
      "Unturned : 12.4 hours\n",
      "Anno 1404 Venice : 8.6 hours\n",
      "\n",
      "Top Sellers recommended to user 164761364:\n",
      "Half-Life 2 Lost Coast\n",
      "Counter-Strike Source\n",
      "Counter-Strike\n",
      "Half-Life 2 Deathmatch\n",
      "Garry's Mod\n",
      "The Elder Scrolls V Skyrim\n",
      "Robocraft\n",
      "Counter-Strike Condition Zero\n",
      "Counter-Strike Condition Zero Deleted Scenes\n",
      "Half-Life 2\n",
      "Sid Meier's Civilization V\n",
      "\n",
      "Top 10 popular games recommended by the community to user 164761364:\n",
      "Counter-Strike\n",
      "Sid Meier's Civilization V\n",
      "Counter-Strike Source\n",
      "The Elder Scrolls V Skyrim\n",
      "Garry's Mod\n",
      "Call of Duty Modern Warfare 2 - Multiplayer\n",
      "Football Manager 2013\n",
      "Football Manager 2012\n",
      "Football Manager 2014\n",
      "Terraria\n",
      "Football Manager 2015\n",
      "\n",
      "Top 10 games recommended to user 164761364:\n",
      "The Elder Scrolls V Skyrim\n",
      "Fallout 4\n",
      "Spore\n",
      "Fallout New Vegas\n",
      "HuniePop\n",
      "Path of Exile\n",
      "Poly Bridge\n",
      "Left 4 Dead\n",
      "Tomb Raider\n",
      "The Banner Saga\n"
     ]
    }
   ],
   "source": [
    "hybrid(testuser)"
   ]
  }
 ],
 "metadata": {
  "kernelspec": {
   "display_name": "Python 3",
   "language": "python",
   "name": "python3"
  },
  "language_info": {
   "codemirror_mode": {
    "name": "ipython",
    "version": 3
   },
   "file_extension": ".py",
   "mimetype": "text/x-python",
   "name": "python",
   "nbconvert_exporter": "python",
   "pygments_lexer": "ipython3",
   "version": "3.7.4"
  },
  "toc": {
   "base_numbering": 1,
   "nav_menu": {},
   "number_sections": true,
   "sideBar": true,
   "skip_h1_title": true,
   "title_cell": "Table of Contents",
   "title_sidebar": "Contents",
   "toc_cell": false,
   "toc_position": {},
   "toc_section_display": true,
   "toc_window_display": false
  },
  "varInspector": {
   "cols": {
    "lenName": 16,
    "lenType": 16,
    "lenVar": 40
   },
   "kernels_config": {
    "python": {
     "delete_cmd_postfix": "",
     "delete_cmd_prefix": "del ",
     "library": "var_list.py",
     "varRefreshCmd": "print(var_dic_list())"
    },
    "r": {
     "delete_cmd_postfix": ") ",
     "delete_cmd_prefix": "rm(",
     "library": "var_list.r",
     "varRefreshCmd": "cat(var_dic_list()) "
    }
   },
   "types_to_exclude": [
    "module",
    "function",
    "builtin_function_or_method",
    "instance",
    "_Feature"
   ],
   "window_display": false
  }
 },
 "nbformat": 4,
 "nbformat_minor": 4
}
